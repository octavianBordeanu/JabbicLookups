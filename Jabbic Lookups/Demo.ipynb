{
 "cells": [
  {
   "cell_type": "code",
   "execution_count": 19,
   "metadata": {},
   "outputs": [],
   "source": [
    "# Import Jabbic class\n",
    "from jabbic.main import Jabbic"
   ]
  },
  {
   "cell_type": "code",
   "execution_count": 24,
   "metadata": {},
   "outputs": [],
   "source": [
    "# Define list of query observations for which matches are to be found in a different dataset.\n",
    "queries = ['c57c5709cbbe22e107352bddf79f279985f2bb9588ad75ffe0d56894a3edf654',\n",
    "          'c6a01308f27e003c4a1d723f41cd05dd57004f4bc35c40a768ed7e2417c63e16',\n",
    "          'c72f3e59b06d46ca364aee721d522f3e765ed4940a6654627e72be232c4f7510']\n",
    "\n",
    "# Create a Jabbic class object.\n",
    "jabbic = Jabbic(b_fn='20151031', # filename of csv file where query observations are\n",
    "                t_fn='20151001', # filename of csv file where the match for each query observation is to be looked for\n",
    "                f_dir='data_ip_split', # name of the directory where these two files are\n",
    "                m_dir='models_october_ip_split', # name of the directory where Word2Vec trained models\n",
    "                kvi=3, # positional index of queries/matches in each row\n",
    "                anchors=[0, 1, 2, 4, 5], # positional indices of observations to be considered when searching for matches\n",
    "                sw=0.5, # semantic weight\n",
    "                queries=queries) # queries (e.g. observations in 20151031.csv file for which we want to find a match in 20151001.csv file)"
   ]
  },
  {
   "cell_type": "markdown",
   "metadata": {},
   "source": [
    "As seen in both dataframes below, the file_sha column contains the query observations which are all at index 3 in each row.\n",
    "This means that, for a given file sha in bade data dataframe the match will also be a file sha but in target data.\n",
    "\n",
    "The anchor points, as defined by indices [0, 1, 2, 4, 5], are observations in all other columns."
   ]
  },
  {
   "cell_type": "code",
   "execution_count": 62,
   "metadata": {},
   "outputs": [
    {
     "data": {
      "text/html": [
       "<div>\n",
       "<style scoped>\n",
       "    .dataframe tbody tr th:only-of-type {\n",
       "        vertical-align: middle;\n",
       "    }\n",
       "\n",
       "    .dataframe tbody tr th {\n",
       "        vertical-align: top;\n",
       "    }\n",
       "\n",
       "    .dataframe thead th {\n",
       "        text-align: right;\n",
       "    }\n",
       "</style>\n",
       "<table border=\"1\" class=\"dataframe\">\n",
       "  <thead>\n",
       "    <tr style=\"text-align: right;\">\n",
       "      <th></th>\n",
       "      <th>as_name</th>\n",
       "      <th>ip_network</th>\n",
       "      <th>ip_host</th>\n",
       "      <th>file_sha</th>\n",
       "      <th>netloc</th>\n",
       "      <th>path</th>\n",
       "    </tr>\n",
       "  </thead>\n",
       "  <tbody>\n",
       "    <tr>\n",
       "      <th>0</th>\n",
       "      <td>amazon-aes - amazon.com, inc.</td>\n",
       "      <td>50</td>\n",
       "      <td>19.109.131</td>\n",
       "      <td>c53d7ae782c0ef13e0215cfe995b973a421a5adf4895af...</td>\n",
       "      <td>get.desk2opapps.com</td>\n",
       "      <td>/downloadmanager/getmar</td>\n",
       "    </tr>\n",
       "    <tr>\n",
       "      <th>1</th>\n",
       "      <td>yunet-as</td>\n",
       "      <td>109</td>\n",
       "      <td>121.100.32</td>\n",
       "      <td>c540fa5d902cec1ea1da7ef8b463b6bd2c01e775c4c994...</td>\n",
       "      <td>109.121.100.32</td>\n",
       "      <td>/mlccbh/deploy/mlccbh/application/program</td>\n",
       "    </tr>\n",
       "    <tr>\n",
       "      <th>2</th>\n",
       "      <td>chinanet-backbone no.31,jin-rong street</td>\n",
       "      <td>115</td>\n",
       "      <td>231.171.46</td>\n",
       "      <td>c5503ff7bfd2d56aee8e280e897c14e0346967f24a5a3c...</td>\n",
       "      <td>ftp-idc.pconline.com.cn</td>\n",
       "      <td>/356e3ba60a561b80067d3d63e7a0dad2/pub/download...</td>\n",
       "    </tr>\n",
       "    <tr>\n",
       "      <th>3</th>\n",
       "      <td>ovh</td>\n",
       "      <td>5</td>\n",
       "      <td>39.99.49</td>\n",
       "      <td>c5620bf52b79d4c4d29f555c21004735af3f0a2d359fcd...</td>\n",
       "      <td>zilliontoolkitusa.info</td>\n",
       "      <td>/download/v356</td>\n",
       "    </tr>\n",
       "    <tr>\n",
       "      <th>4</th>\n",
       "      <td>internode-as internode pty ltd</td>\n",
       "      <td>203.0.178</td>\n",
       "      <td>91</td>\n",
       "      <td>c563e474950ffcaca412c31f43ef6e47d78a945113be26...</td>\n",
       "      <td>www.sportspage.com.au</td>\n",
       "      <td>/downloads</td>\n",
       "    </tr>\n",
       "  </tbody>\n",
       "</table>\n",
       "</div>"
      ],
      "text/plain": [
       "                                   as_name ip_network     ip_host                                           file_sha                   netloc                                               path\n",
       "0            amazon-aes - amazon.com, inc.         50  19.109.131  c53d7ae782c0ef13e0215cfe995b973a421a5adf4895af...      get.desk2opapps.com                            /downloadmanager/getmar\n",
       "1                                 yunet-as        109  121.100.32  c540fa5d902cec1ea1da7ef8b463b6bd2c01e775c4c994...           109.121.100.32          /mlccbh/deploy/mlccbh/application/program\n",
       "2  chinanet-backbone no.31,jin-rong street        115  231.171.46  c5503ff7bfd2d56aee8e280e897c14e0346967f24a5a3c...  ftp-idc.pconline.com.cn  /356e3ba60a561b80067d3d63e7a0dad2/pub/download...\n",
       "3                                      ovh          5    39.99.49  c5620bf52b79d4c4d29f555c21004735af3f0a2d359fcd...   zilliontoolkitusa.info                                     /download/v356\n",
       "4           internode-as internode pty ltd  203.0.178          91  c563e474950ffcaca412c31f43ef6e47d78a945113be26...    www.sportspage.com.au                                         /downloads"
      ]
     },
     "execution_count": 62,
     "metadata": {},
     "output_type": "execute_result"
    }
   ],
   "source": [
    "jabbic.bd.head(5)"
   ]
  },
  {
   "cell_type": "code",
   "execution_count": 63,
   "metadata": {},
   "outputs": [
    {
     "data": {
      "text/html": [
       "<div>\n",
       "<style scoped>\n",
       "    .dataframe tbody tr th:only-of-type {\n",
       "        vertical-align: middle;\n",
       "    }\n",
       "\n",
       "    .dataframe tbody tr th {\n",
       "        vertical-align: top;\n",
       "    }\n",
       "\n",
       "    .dataframe thead th {\n",
       "        text-align: right;\n",
       "    }\n",
       "</style>\n",
       "<table border=\"1\" class=\"dataframe\">\n",
       "  <thead>\n",
       "    <tr style=\"text-align: right;\">\n",
       "      <th></th>\n",
       "      <th>as_name</th>\n",
       "      <th>ip_network</th>\n",
       "      <th>ip_host</th>\n",
       "      <th>file_sha</th>\n",
       "      <th>netloc</th>\n",
       "      <th>path</th>\n",
       "    </tr>\n",
       "  </thead>\n",
       "  <tbody>\n",
       "    <tr>\n",
       "      <th>0</th>\n",
       "      <td>highwinds3 - highwinds network group, inc.</td>\n",
       "      <td>69</td>\n",
       "      <td>16.175.10</td>\n",
       "      <td>eb2f9b4ca6a01f6eaae5d9d54a846d2e1066b9ef00b19e...</td>\n",
       "      <td>dl.randkeygen.com</td>\n",
       "      <td>/25/all/hd/in</td>\n",
       "    </tr>\n",
       "    <tr>\n",
       "      <th>1</th>\n",
       "      <td>amazon-aes - amazon.com, inc.</td>\n",
       "      <td>23</td>\n",
       "      <td>23.167.169</td>\n",
       "      <td>eb3dba7b53b59bedc4fd2571933594463d250f92e29b8a...</td>\n",
       "      <td>google-chrome.todownload.com</td>\n",
       "      <td>/get/file/id/853326</td>\n",
       "    </tr>\n",
       "    <tr>\n",
       "      <th>2</th>\n",
       "      <td>amazon-aes - amazon.com, inc.</td>\n",
       "      <td>184.73</td>\n",
       "      <td>238.150</td>\n",
       "      <td>eb3dba7b53b59bedc4fd2571933594463d250f92e29b8a...</td>\n",
       "      <td>google-chrome.todownload.com</td>\n",
       "      <td>/get/file/id/853326</td>\n",
       "    </tr>\n",
       "    <tr>\n",
       "      <th>3</th>\n",
       "      <td>amazon-02 - amazon.com, inc.</td>\n",
       "      <td>54</td>\n",
       "      <td>213.72.9</td>\n",
       "      <td>eb3e870755cdfaf7b1c84c56a1a3dfaaac2059a849d881...</td>\n",
       "      <td>best-gets.info</td>\n",
       "      <td>/hp</td>\n",
       "    </tr>\n",
       "    <tr>\n",
       "      <th>4</th>\n",
       "      <td>amazon-aes - amazon.com, inc.</td>\n",
       "      <td>54</td>\n",
       "      <td>197.245.47</td>\n",
       "      <td>eb439456afd48214d2f9b6bcebbb8f09815c43457ca837...</td>\n",
       "      <td>get.0142g.info</td>\n",
       "      <td>/1443678706/1443678706/1443678706</td>\n",
       "    </tr>\n",
       "  </tbody>\n",
       "</table>\n",
       "</div>"
      ],
      "text/plain": [
       "                                      as_name ip_network     ip_host                                           file_sha                        netloc                               path\n",
       "0  highwinds3 - highwinds network group, inc.         69   16.175.10  eb2f9b4ca6a01f6eaae5d9d54a846d2e1066b9ef00b19e...             dl.randkeygen.com                      /25/all/hd/in\n",
       "1               amazon-aes - amazon.com, inc.         23  23.167.169  eb3dba7b53b59bedc4fd2571933594463d250f92e29b8a...  google-chrome.todownload.com                /get/file/id/853326\n",
       "2               amazon-aes - amazon.com, inc.     184.73     238.150  eb3dba7b53b59bedc4fd2571933594463d250f92e29b8a...  google-chrome.todownload.com                /get/file/id/853326\n",
       "3                amazon-02 - amazon.com, inc.         54    213.72.9  eb3e870755cdfaf7b1c84c56a1a3dfaaac2059a849d881...                best-gets.info                                /hp\n",
       "4               amazon-aes - amazon.com, inc.         54  197.245.47  eb439456afd48214d2f9b6bcebbb8f09815c43457ca837...                get.0142g.info  /1443678706/1443678706/1443678706"
      ]
     },
     "execution_count": 63,
     "metadata": {},
     "output_type": "execute_result"
    }
   ],
   "source": [
    "# Preview of the target data\n",
    "jabbic.td.head(5)"
   ]
  },
  {
   "cell_type": "markdown",
   "metadata": {},
   "source": [
    "We are now ready to find the file hashes in target data (20151001.csv) that best represent the query file hashes in base data (20151031.csv) which were defined in the queries variable."
   ]
  },
  {
   "cell_type": "code",
   "execution_count": 47,
   "metadata": {},
   "outputs": [
    {
     "data": {
      "application/vnd.jupyter.widget-view+json": {
       "model_id": "289cbf60d7d54bfc960217d1ff11b62f",
       "version_major": 2,
       "version_minor": 0
      },
      "text/plain": [
       "HBox(children=(IntProgress(value=0, description='Batches processed: ', max=1, style=ProgressStyle(description_…"
      ]
     },
     "metadata": {},
     "output_type": "display_data"
    },
    {
     "name": "stdout",
     "output_type": "stream",
     "text": [
      "\n"
     ]
    }
   ],
   "source": [
    "# There are only 3 query file hashes that we are interested in this example.\n",
    "# This is a small number of query observations and so we look for their matches at once.\n",
    "# If, for example, we had 300,000 query onbservations, we might have wanted to split them into 20 batches (or more, depending\n",
    "# on how much RAM memory is available), and then find the matches for each batch of query observations separately.\n",
    "jabbic.find_matches(n_batches=1)"
   ]
  },
  {
   "cell_type": "markdown",
   "metadata": {},
   "source": [
    "We can now look at the matches returned by Jabbic for each of the query file hashes, but first let us visualise the dataframe containing the query file hashes and their anchors."
   ]
  },
  {
   "cell_type": "code",
   "execution_count": 49,
   "metadata": {},
   "outputs": [
    {
     "data": {
      "text/html": [
       "<div>\n",
       "<style scoped>\n",
       "    .dataframe tbody tr th:only-of-type {\n",
       "        vertical-align: middle;\n",
       "    }\n",
       "\n",
       "    .dataframe tbody tr th {\n",
       "        vertical-align: top;\n",
       "    }\n",
       "\n",
       "    .dataframe thead th {\n",
       "        text-align: right;\n",
       "    }\n",
       "</style>\n",
       "<table border=\"1\" class=\"dataframe\">\n",
       "  <thead>\n",
       "    <tr style=\"text-align: right;\">\n",
       "      <th></th>\n",
       "      <th>as_name</th>\n",
       "      <th>ip_network</th>\n",
       "      <th>ip_host</th>\n",
       "      <th>file_sha</th>\n",
       "      <th>netloc</th>\n",
       "      <th>path</th>\n",
       "    </tr>\n",
       "  </thead>\n",
       "  <tbody>\n",
       "    <tr>\n",
       "      <th>7</th>\n",
       "      <td>amazon-02 - amazon.com, inc.</td>\n",
       "      <td>54</td>\n",
       "      <td>148.248.147</td>\n",
       "      <td>c57c5709cbbe22e107352bddf79f279985f2bb9588ad75...</td>\n",
       "      <td>admin.magnodnw.com</td>\n",
       "      <td>/vxlqzveknnmrocggumlvgig-nhtf_h07zrqqxyyy50z7i...</td>\n",
       "    </tr>\n",
       "    <tr>\n",
       "      <th>28</th>\n",
       "      <td>ovh</td>\n",
       "      <td>37</td>\n",
       "      <td>59.30.196</td>\n",
       "      <td>c6a01308f27e003c4a1d723f41cd05dd57004f4bc35c40...</td>\n",
       "      <td>37.59.30.196</td>\n",
       "      <td>/download/dlshr</td>\n",
       "    </tr>\n",
       "    <tr>\n",
       "      <th>36</th>\n",
       "      <td>amazon-02 - amazon.com, inc.</td>\n",
       "      <td>54</td>\n",
       "      <td>149.60.150</td>\n",
       "      <td>c72f3e59b06d46ca364aee721d522f3e765ed4940a6654...</td>\n",
       "      <td>www.metaappdl.com</td>\n",
       "      <td>/c</td>\n",
       "    </tr>\n",
       "  </tbody>\n",
       "</table>\n",
       "</div>"
      ],
      "text/plain": [
       "                         as_name ip_network      ip_host                                           file_sha              netloc                                               path\n",
       "7   amazon-02 - amazon.com, inc.         54  148.248.147  c57c5709cbbe22e107352bddf79f279985f2bb9588ad75...  admin.magnodnw.com  /vxlqzveknnmrocggumlvgig-nhtf_h07zrqqxyyy50z7i...\n",
       "28                           ovh         37    59.30.196  c6a01308f27e003c4a1d723f41cd05dd57004f4bc35c40...        37.59.30.196                                    /download/dlshr\n",
       "36  amazon-02 - amazon.com, inc.         54   149.60.150  c72f3e59b06d46ca364aee721d522f3e765ed4940a6654...   www.metaappdl.com                                                 /c"
      ]
     },
     "execution_count": 49,
     "metadata": {},
     "output_type": "execute_result"
    }
   ],
   "source": [
    "# Queries dataframe\n",
    "jabbic.q_df"
   ]
  },
  {
   "cell_type": "code",
   "execution_count": 50,
   "metadata": {
    "scrolled": false
   },
   "outputs": [
    {
     "data": {
      "text/plain": [
       "[['c57c5709cbbe22e107352bddf79f279985f2bb9588ad75ffe0d56894a3edf654',\n",
       "  '873c02f2750634d6887f401db7ac1eac65242eb8ecff4d74b2c62b2e2725246f',\n",
       "  0,\n",
       "  301420,\n",
       "  'amazon-02 - amazon.com, inc., 54, 148.248.147, admin.magnodnw.com, /vxlqzveknnmrocggumlvgig-nhtf_h07zrqqxyyy50z7i2pcqniypphozqrofnnwrpkg_dnsm35dwodnumgjxax3d4xiulyqzq8rj1f2vp17iwoj8aiugunuyku4o369gwu33oweloy2nfpzn_e36ukg-m2utqcs42-makh3adekctijahsifm_sywwzxkujhlr7de5dzimogokxmkjfgc0g29_cgz8yk2xi0pxhirzlv5hfqpj8nrbcebwxrpkpreg87vlzpt77xhfjktp6ovjc4iajcefqmtega_19jntxxdpmitdz_wyvrcacuq773y4hv9xcsyceq6bnqc9fxydyxhozvah8axpt5ft8rqvitvk1mcwbq8qiokukt-o065cwbovwmz39yfqeurvaopxvtdnfrb-7858g7f_lm54bpclosm-9zu-s7ajnyg8z',\n",
       "  'amazon-02 - amazon.com, inc., 54, 231.162.96, s3-us-west-2.amazonaws.com, /cyngn-oneclick/builds/2.0.3.0/lib/net-4.0',\n",
       "  0.54],\n",
       " ['c6a01308f27e003c4a1d723f41cd05dd57004f4bc35c40a768ed7e2417c63e16',\n",
       "  '64161437c15d48cb2c18d82b6267a5e3b4d5cd717b57ea7f110126a0784b3cc3',\n",
       "  1,\n",
       "  570035,\n",
       "  'ovh, 37, 59.30.196, 37.59.30.196, /download/dlshr',\n",
       "  'ovh, 37, 187.169.18, app-cdn.firestorm-servers.com, /launcher/win',\n",
       "  0.53],\n",
       " ['c72f3e59b06d46ca364aee721d522f3e765ed4940a6654627e72be232c4f7510',\n",
       "  '670c44859ab4bbaccbc0dca6d8a6ccedcb1ee5a4feb2bb0ca1d79f1aa4b7f619',\n",
       "  2,\n",
       "  643392,\n",
       "  'amazon-02 - amazon.com, inc., 54, 149.60.150, www.metaappdl.com, /c',\n",
       "  'amazon-02 - amazon.com, inc., 54, 149.60.150, www.jdtlrtaenraogggdsdraccapitaltour.com, /c',\n",
       "  0.89]]"
      ]
     },
     "execution_count": 50,
     "metadata": {},
     "output_type": "execute_result"
    }
   ],
   "source": [
    "# Look at local matches.\n",
    "# Each sublist contains:\n",
    "    # query observation\n",
    "    # match observation\n",
    "    # row index of query in base dataframe\n",
    "    # row index of match in target dataframe\n",
    "    # anchor points of query observation\n",
    "    # anchor points of match observation\n",
    "    # Ratcliff/Obsershelp similarity\n",
    "jabbic.lm"
   ]
  },
  {
   "cell_type": "markdown",
   "metadata": {},
   "source": [
    "Now let us see how to interpret the findings. We take as an example the the last query file hash and its match file hash.\n",
    "\n",
    "As seen below,\n",
    "\n",
    "Query file hash is at index 2 in the queries dataframe\n",
    "Target file hash is at index 2 in the 20151031.csv file\n",
    "\n",
    "However, the row data for each query and match observation is already stored in jabbic.lm, but as a proof of concept we show\n",
    "how to access it separately if needed."
   ]
  },
  {
   "cell_type": "code",
   "execution_count": 54,
   "metadata": {},
   "outputs": [
    {
     "data": {
      "text/plain": [
       "['c72f3e59b06d46ca364aee721d522f3e765ed4940a6654627e72be232c4f7510',\n",
       " '670c44859ab4bbaccbc0dca6d8a6ccedcb1ee5a4feb2bb0ca1d79f1aa4b7f619',\n",
       " 2,\n",
       " 643392,\n",
       " 'amazon-02 - amazon.com, inc., 54, 149.60.150, www.metaappdl.com, /c',\n",
       " 'amazon-02 - amazon.com, inc., 54, 149.60.150, www.jdtlrtaenraogggdsdraccapitaltour.com, /c',\n",
       " 0.89]"
      ]
     },
     "execution_count": 54,
     "metadata": {},
     "output_type": "execute_result"
    }
   ],
   "source": [
    "jabbic.lm[2]"
   ]
  },
  {
   "cell_type": "code",
   "execution_count": 60,
   "metadata": {},
   "outputs": [
    {
     "data": {
      "text/html": [
       "<div>\n",
       "<style scoped>\n",
       "    .dataframe tbody tr th:only-of-type {\n",
       "        vertical-align: middle;\n",
       "    }\n",
       "\n",
       "    .dataframe tbody tr th {\n",
       "        vertical-align: top;\n",
       "    }\n",
       "\n",
       "    .dataframe thead th {\n",
       "        text-align: right;\n",
       "    }\n",
       "</style>\n",
       "<table border=\"1\" class=\"dataframe\">\n",
       "  <thead>\n",
       "    <tr style=\"text-align: right;\">\n",
       "      <th></th>\n",
       "      <th>as_name</th>\n",
       "      <th>ip_network</th>\n",
       "      <th>ip_host</th>\n",
       "      <th>file_sha</th>\n",
       "      <th>netloc</th>\n",
       "      <th>path</th>\n",
       "    </tr>\n",
       "  </thead>\n",
       "  <tbody>\n",
       "    <tr>\n",
       "      <th>36</th>\n",
       "      <td>amazon-02 - amazon.com, inc.</td>\n",
       "      <td>54</td>\n",
       "      <td>149.60.150</td>\n",
       "      <td>c72f3e59b06d46ca364aee721d522f3e765ed4940a6654...</td>\n",
       "      <td>www.metaappdl.com</td>\n",
       "      <td>/c</td>\n",
       "    </tr>\n",
       "  </tbody>\n",
       "</table>\n",
       "</div>"
      ],
      "text/plain": [
       "                         as_name ip_network     ip_host                                           file_sha             netloc path\n",
       "36  amazon-02 - amazon.com, inc.         54  149.60.150  c72f3e59b06d46ca364aee721d522f3e765ed4940a6654...  www.metaappdl.com   /c"
      ]
     },
     "execution_count": 60,
     "metadata": {},
     "output_type": "execute_result"
    }
   ],
   "source": [
    "# Row data of the query observation is at index 2 in the q_df dataframe.\n",
    "jabbic.q_df.iloc[[2]]"
   ]
  },
  {
   "cell_type": "code",
   "execution_count": 61,
   "metadata": {},
   "outputs": [
    {
     "data": {
      "text/html": [
       "<div>\n",
       "<style scoped>\n",
       "    .dataframe tbody tr th:only-of-type {\n",
       "        vertical-align: middle;\n",
       "    }\n",
       "\n",
       "    .dataframe tbody tr th {\n",
       "        vertical-align: top;\n",
       "    }\n",
       "\n",
       "    .dataframe thead th {\n",
       "        text-align: right;\n",
       "    }\n",
       "</style>\n",
       "<table border=\"1\" class=\"dataframe\">\n",
       "  <thead>\n",
       "    <tr style=\"text-align: right;\">\n",
       "      <th></th>\n",
       "      <th>as_name</th>\n",
       "      <th>ip_network</th>\n",
       "      <th>ip_host</th>\n",
       "      <th>file_sha</th>\n",
       "      <th>netloc</th>\n",
       "      <th>path</th>\n",
       "    </tr>\n",
       "  </thead>\n",
       "  <tbody>\n",
       "    <tr>\n",
       "      <th>643392</th>\n",
       "      <td>amazon-02 - amazon.com, inc.</td>\n",
       "      <td>54</td>\n",
       "      <td>149.60.150</td>\n",
       "      <td>670c44859ab4bbaccbc0dca6d8a6ccedcb1ee5a4feb2bb...</td>\n",
       "      <td>www.jdtlrtaenraogggdsdraccapitaltour.com</td>\n",
       "      <td>/c</td>\n",
       "    </tr>\n",
       "  </tbody>\n",
       "</table>\n",
       "</div>"
      ],
      "text/plain": [
       "                             as_name ip_network     ip_host                                           file_sha                                    netloc path\n",
       "643392  amazon-02 - amazon.com, inc.         54  149.60.150  670c44859ab4bbaccbc0dca6d8a6ccedcb1ee5a4feb2bb...  www.jdtlrtaenraogggdsdraccapitaltour.com   /c"
      ]
     },
     "execution_count": 61,
     "metadata": {},
     "output_type": "execute_result"
    }
   ],
   "source": [
    "# Row data of the target file hash is at index 643392 in the 20151031.csv file\n",
    "jabbic.td.iloc[[643392]]"
   ]
  },
  {
   "cell_type": "markdown",
   "metadata": {},
   "source": [
    "#### Possible interpretation of results in malware detection\n",
    "\n",
    "We see that the Ratcliff/Obsershelp (R/O) similarity between the anchors of the query onbservations and the anchors of the match observations is 0.89, which means that the the returned match is a good representative, both semantically and relationally, for the query observation. The R/O similarity is used as confidence factor to determine how alike are the anchors (contexts) of the query observation and its match observation. The R/O similarity takes values between 0 and 1, where 1 means that the query and match observations are representative of one another and 0 viceversa.\n",
    "\n",
    "In the example above we can see that both the query file hash c72f3... and match 670c4... are representative of one another because they have the same as_name, ip_network, ip_host, and path. This information is useful for a number of reasons:\n",
    "    \n",
    "    - assume the file hash c72f3..., downloaded on 31 October 2015, is a new file which has never been downloaded before;\n",
    "    - the aim is to determine whether this file is likely to be malicious or not, and maybe even infer its malware family to learn more about its behaviour;\n",
    "    - also assume that file hash 670c4..., downloaded on 1 October 2015, is already known to be malicious belonging to malware family 'amonetize';\n",
    "    - because Jabbic returned file hash 670c4... as most related to c72f3... out of all files downloaded on 1 October 2015, and because the R/O similarity was very high, we can have a high level of confidence that c72f3... is also malicious and even belong to the same malware family as the match file hash 670c4..."
   ]
  },
  {
   "cell_type": "code",
   "execution_count": null,
   "metadata": {},
   "outputs": [],
   "source": []
  }
 ],
 "metadata": {
  "kernelspec": {
   "display_name": "Python 3",
   "language": "python",
   "name": "python3"
  },
  "language_info": {
   "codemirror_mode": {
    "name": "ipython",
    "version": 3
   },
   "file_extension": ".py",
   "mimetype": "text/x-python",
   "name": "python",
   "nbconvert_exporter": "python",
   "pygments_lexer": "ipython3",
   "version": "3.7.1"
  }
 },
 "nbformat": 4,
 "nbformat_minor": 2
}
